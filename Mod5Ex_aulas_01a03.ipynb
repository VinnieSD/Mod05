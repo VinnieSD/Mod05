{
 "cells": [
  {
   "cell_type": "markdown",
   "metadata": {},
   "source": [
    "# Módulo 5 Tarefa 1\n",
    "## Base de nascidos vivos do DataSUS\n",
    "O DataSUS disponibiliza diversos arquivos de dados com relação a seus segurados, conforme a [lei da transparência de informações públicas](https://www.sisgov.com/transparencia-acesso-informacao/#:~:text=A%20Lei%20da%20Transpar%C3%AAncia%20(LC,em%20um%20site%20na%20internet.). \n",
    "\n",
    "Essas informações podem ser obtidas pela internet [aqui](http://www2.datasus.gov.br/DATASUS/index.php?area=0901&item=1). Como o processo de obtenção desses arquivos foge um pouco do nosso escopo, deixamos o arquivo ```SINASC_RO_2019.csv``` já como vai ser encontrado no DataSUS. O dicionário de dados está no arquivo ```estrutura_sinasc_para_CD.pdf``` (o nome do arquivo tal qual no portal do DataSUS).\n",
    "\n",
    "### Nosso objetivo\n",
    "Queremos deixar uma base organizada para podermos estudar a relação entre partos com risco para o bebê e algumas condições como tempo de parto, consultas de pré-natal etc.\n",
    "\n",
    "#### Preparação da base\n",
    "1. Carregue a base 'SINASC_RO_2019.csv'. Conte o número de registros e o número de registros não duplicados da base. Dica: você aprendeu um método que remove duplicados, encadeie este método com um outro método que conta o número de linhas. **Há linhas duplicadas?**  \n",
    "\n",
    "2. Conte o número de valores *missing* por variável.  \n",
    "\n",
    "3. Ok, no item anterior você deve ter achado pouco prático ler a informação de tantas variáveis, muitas delas nem devem ser interesantes. Então crie uma seleção dessa base somente com as colunas que interessam. São elas:\n",
    "``` \n",
    "['LOCNASC', 'IDADEMAE', 'ESTCIVMAE', 'ESCMAE', 'QTDFILVIVO', \n",
    "    'GESTACAO', 'GRAVIDEZ', 'CONSULTAS', 'APGAR5'] \n",
    "```\n",
    "Refaça a contagem de valores *missings*.  \n",
    "\n",
    "4. Apgar é uma *nota* que o pediatra dá ao bebê quando nasce de acordo com algumas características associadas principalmente à respiração. Apgar 1 e Apgar 5 são as notas 1 e 5 minutos do nascimento. Apgar5 será a nossa variável de interesse principal. Então remova todos os registros com Apgar5 não preenchido. Para esta seleção, conte novamente o número de linhas e o número de *missings*.  \n",
    "\n",
    "5. observe que as variáveis ```['ESTCIVMAE', 'CONSULTAS']``` possuem o código ```9```, que significa *ignorado*. Vamos assumir que o não preenchido é o mesmo que o código ```9```.<br>\n",
    "6. Substitua os valores faltantes da quantitativa (```QTDFILVIVO```) por zero.  \n",
    "7. Das restantes, decida que valore te parece mais adequado (um 'não preenchido' ou um valor 'mais provável' como no item anterior) e preencha. Justifique. Lembre-se de que tratamento de dados é trabalho do cientista, e que estamos tomando decisões a todo o momento - não há necessariamente certo e errado aqui.  \n",
    "8. O Apgar possui uma classificação indicando se o bebê passou por asfixia:\n",
    "- Entre 8 e 10 está em uma faixa 'normal'. \n",
    "- Entre 6 e 7, significa que o recém-nascido passou por 'asfixia leve'. \n",
    "- Entre 4 e 5 significa 'asfixia moderada'.\n",
    "- Entre 0 e 3 significa 'asfixia severa'.  \n",
    "\n",
    "Crie uma categorização dessa variável com essa codificação e calcule as frequências dessa categorização.  \n",
    "<br>\n",
    "9. Renomeie as variáveis para que fiquem no *snake case*, ou seja, em letras minúsculas, com um *underscore* entre as palávras. Dica: repare que se você não quiser criar um *dataframe* novo, você vai precisar usar a opção ```inplace = True```."
   ]
  },
  {
   "cell_type": "code",
   "execution_count": 1,
   "metadata": {},
   "outputs": [
    {
     "name": "stdout",
     "output_type": "stream",
     "text": [
      "(27028, 69)\n"
     ]
    },
    {
     "data": {
      "text/plain": [
       "(27028, 69)"
      ]
     },
     "execution_count": 1,
     "metadata": {},
     "output_type": "execute_result"
    }
   ],
   "source": [
    "import pandas as pd\n",
    "import requests\n",
    "\n",
    "# 1) seu código aqui\n",
    "sinasc = pd.read_csv('SINASC_RO_2019.csv')\n",
    "print(sinasc.shape)\n",
    "sinasc.drop_duplicates().shape\n",
    "# Não há duplicados"
   ]
  },
  {
   "cell_type": "code",
   "execution_count": 12,
   "metadata": {},
   "outputs": [
    {
     "data": {
      "text/plain": [
       "ORIGEM          0\n",
       "CODESTAB      115\n",
       "CODMUNNASC      0\n",
       "LOCNASC         0\n",
       "IDADEMAE        0\n",
       "             ... \n",
       "munResUf        0\n",
       "munResLat       1\n",
       "munResLon       1\n",
       "munResAlt       1\n",
       "munResArea      1\n",
       "Length: 69, dtype: int64"
      ]
     },
     "execution_count": 12,
     "metadata": {},
     "output_type": "execute_result"
    }
   ],
   "source": [
    "# 2) seu código aqui\n",
    "sinasc.isna().sum()"
   ]
  },
  {
   "cell_type": "code",
   "execution_count": 20,
   "metadata": {},
   "outputs": [
    {
     "data": {
      "text/plain": [
       "LOCNASC          0\n",
       "IDADEMAE         0\n",
       "ESTCIVMAE      317\n",
       "ESCMAE         312\n",
       "QTDFILVIVO    1573\n",
       "GESTACAO      1232\n",
       "GRAVIDEZ        79\n",
       "CONSULTAS        0\n",
       "APGAR5         103\n",
       "dtype: int64"
      ]
     },
     "execution_count": 20,
     "metadata": {},
     "output_type": "execute_result"
    }
   ],
   "source": [
    "# 3) seu código aqui\n",
    "dados_i = ['LOCNASC', 'IDADEMAE', 'ESTCIVMAE', 'ESCMAE', 'QTDFILVIVO', 'GESTACAO', 'GRAVIDEZ', 'CONSULTAS', 'APGAR5']\n",
    "\n",
    "sinasc[dados_i].isna().sum()"
   ]
  },
  {
   "cell_type": "code",
   "execution_count": 24,
   "metadata": {},
   "outputs": [
    {
     "data": {
      "text/plain": [
       "ORIGEM         0\n",
       "CODESTAB      66\n",
       "CODMUNNASC     0\n",
       "LOCNASC        0\n",
       "IDADEMAE       0\n",
       "              ..\n",
       "munResUf       0\n",
       "munResLat      1\n",
       "munResLon      1\n",
       "munResAlt      1\n",
       "munResArea     1\n",
       "Length: 69, dtype: int64"
      ]
     },
     "execution_count": 24,
     "metadata": {},
     "output_type": "execute_result"
    }
   ],
   "source": [
    "# 4) seu código aqui\n",
    "sinasc.dropna(subset=['APGAR5'], inplace=True)\n",
    "sinasc.isna().sum()"
   ]
  },
  {
   "cell_type": "code",
   "execution_count": 34,
   "metadata": {},
   "outputs": [],
   "source": [
    "# 5) seu código aqui\n",
    "import numpy as np\n",
    "sinasc.replace({'ESTCIVMAE': ['', np.nan], 'CONSULTAS': ['', np.nan]}, 9, inplace=True)#Pesquisei a sintaxe."
   ]
  },
  {
   "cell_type": "code",
   "execution_count": 37,
   "metadata": {},
   "outputs": [],
   "source": [
    "# 6) Seu código aqui\n",
    "sinasc['QTDFILVIVO'].fillna(0, inplace=True)"
   ]
  },
  {
   "cell_type": "code",
   "execution_count": 36,
   "metadata": {},
   "outputs": [
    {
     "data": {
      "text/plain": [
       "0        0.0\n",
       "1        1.0\n",
       "2        2.0\n",
       "3        0.0\n",
       "4        1.0\n",
       "        ... \n",
       "27023    1.0\n",
       "27024    0.0\n",
       "27025    0.0\n",
       "27026    1.0\n",
       "27027    1.0\n",
       "Name: QTDFILVIVO, Length: 26925, dtype: float64"
      ]
     },
     "execution_count": 36,
     "metadata": {},
     "output_type": "execute_result"
    }
   ],
   "source": [
    "# 7) seu código aqui\n",
    "sinasc['QTDFILVIVO'].fillna(\"não preenchido\") #Pois não foi preenchido, e é válido marcar explicitamente esses dados ausentes."
   ]
  },
  {
   "cell_type": "code",
   "execution_count": 59,
   "metadata": {},
   "outputs": [
    {
     "name": "stdout",
     "output_type": "stream",
     "text": [
      "Categoria_Apgar1\n",
      "normal              23793\n",
      "asfixia leve         2522\n",
      "asfixia moderada      376\n",
      "asfixia severa        230\n",
      "Name: count, dtype: int64\n",
      "Categoria_Apgar5\n",
      "normal              26463\n",
      "asfixia leve          320\n",
      "asfixia severa         74\n",
      "asfixia moderada       68\n",
      "Name: count, dtype: int64\n"
     ]
    }
   ],
   "source": [
    "# 8) seu código aqui\n",
    "import pandas as pd\n",
    "\n",
    "\n",
    "sinasc.loc[sinasc['apgar5'].between(0, 3), 'Categoria_Apgar5'] = 'asfixia severa'  #Pesquisei a sintaxe\n",
    "sinasc.loc[sinasc['apgar5'].between(4, 5), 'Categoria_Apgar5'] = 'asfixia moderada'\n",
    "sinasc.loc[sinasc['apgar5'].between(6, 7), 'Categoria_Apgar5'] = 'asfixia leve'\n",
    "sinasc.loc[sinasc['apgar5'].between(8, 10), 'Categoria_Apgar5'] = 'normal'\n",
    "\n",
    "sinasc.loc[sinasc['apgar1'].between(0, 3), 'Categoria_Apgar1'] = 'asfixia severa'\n",
    "sinasc.loc[sinasc['apgar1'].between(4, 5), 'Categoria_Apgar1'] = 'asfixia moderada'\n",
    "sinasc.loc[sinasc['apgar1'].between(6, 7), 'Categoria_Apgar1'] = 'asfixia leve'\n",
    "sinasc.loc[sinasc['apgar1'].between(8, 10), 'Categoria_Apgar1'] = 'normal'\n",
    "\n",
    "apgar1 = sinasc['Categoria_Apgar1'].value_counts()\n",
    "apgar5 = sinasc['Categoria_Apgar5'].value_counts()\n",
    "\n",
    "print(apgar1)\n",
    "print(apgar5)"
   ]
  },
  {
   "cell_type": "code",
   "execution_count": 58,
   "metadata": {},
   "outputs": [
    {
     "name": "stdout",
     "output_type": "stream",
     "text": [
      "Index(['origem', 'codestab', 'codmunnasc', 'locnasc', 'idademae', 'estcivmae',\n",
      "       'escmae', 'codocupmae', 'qtdfilvivo', 'qtdfilmort', 'codmunres',\n",
      "       'gestacao', 'gravidez', 'parto', 'consultas', 'dtnasc', 'horanasc',\n",
      "       'sexo', 'apgar1', 'apgar5', 'racacor', 'peso', 'idanomal', 'dtcadastro',\n",
      "       'codanomal', 'numerolote', 'versaosist', 'dtrecebim', 'difdata',\n",
      "       'dtrecoriga', 'naturalmae', 'codmunnatu', 'codufnatu', 'escmae2010',\n",
      "       'seriescmae', 'dtnascmae', 'racacormae', 'qtdgestant', 'qtdpartnor',\n",
      "       'qtdpartces', 'idadepai', 'dtultmenst', 'semagestac', 'tpmetestim',\n",
      "       'consprenat', 'mesprenat', 'tpapresent', 'sttrabpart', 'stcesparto',\n",
      "       'tpnascassi', 'tpfuncresp', 'tpdocresp', 'dtdeclarac', 'escmaeagr1',\n",
      "       'stdnepidem', 'stdnnova', 'codpaisres', 'tprobson', 'paridade',\n",
      "       'kotelchuck', 'contador', 'munresstatus', 'munrestipo', 'munresnome',\n",
      "       'munresuf', 'munreslat', 'munreslon', 'munresalt', 'munresarea',\n",
      "       'categoria_apgar5', 'categoria_apgar5', 'categoria_apgar1'],\n",
      "      dtype='object')\n"
     ]
    }
   ],
   "source": [
    "# 9) seu código aqui\n",
    "\n",
    "sinasc.rename(columns=lambda x: x.lower().replace(' ', '_'), inplace=True)#Pesquisei a sintaxe.\n",
    "\n",
    "print(sinasc.columns)"
   ]
  },
  {
   "cell_type": "code",
   "execution_count": null,
   "metadata": {},
   "outputs": [],
   "source": []
  }
 ],
 "metadata": {
  "kernelspec": {
   "display_name": "Python 3 (ipykernel)",
   "language": "python",
   "name": "python3"
  },
  "language_info": {
   "codemirror_mode": {
    "name": "ipython",
    "version": 3
   },
   "file_extension": ".py",
   "mimetype": "text/x-python",
   "name": "python",
   "nbconvert_exporter": "python",
   "pygments_lexer": "ipython3",
   "version": "3.11.5"
  }
 },
 "nbformat": 4,
 "nbformat_minor": 4
}
